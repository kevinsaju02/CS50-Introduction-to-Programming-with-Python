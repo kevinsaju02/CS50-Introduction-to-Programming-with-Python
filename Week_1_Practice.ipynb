{
  "nbformat": 4,
  "nbformat_minor": 0,
  "metadata": {
    "colab": {
      "provenance": []
    },
    "kernelspec": {
      "name": "python3",
      "display_name": "Python 3"
    },
    "language_info": {
      "name": "python"
    }
  },
  "cells": [
    {
      "cell_type": "code",
      "execution_count": 2,
      "metadata": {
        "colab": {
          "base_uri": "https://localhost:8080/"
        },
        "id": "5g5yOWsdS1Bv",
        "outputId": "e83c22ff-25ae-48da-f8f2-896426324edb"
      },
      "outputs": [
        {
          "output_type": "stream",
          "name": "stdout",
          "text": [
            "What's x? 1\n",
            "What's y? 2\n",
            "x is less than y\n"
          ]
        }
      ],
      "source": [
        "x = int(input(\"What's x? \"))\n",
        "y = int(input(\"What's y? \"))\n",
        "\n",
        "if x < y:\n",
        "  print(\"x is less than y\")\n",
        "if x > y:\n",
        "  print(\"x is greater than y\")\n",
        "if x == y: #remember ther are 2 equal signs\n",
        "  print(\"x is equal to y\")"
      ]
    },
    {
      "cell_type": "code",
      "source": [
        "x = int(input(\"What's x? \"))\n",
        "y = int(input(\"What's y? \"))\n",
        "\n",
        "if x < y:\n",
        "  print(\"x is less than y\")\n",
        "elif x > y:\n",
        "  print(\"x is greater than y\")\n",
        "elif x == y: #remember ther are 2 equal signs\n",
        "  print(\"x is equal to y\")"
      ],
      "metadata": {
        "colab": {
          "base_uri": "https://localhost:8080/"
        },
        "id": "CJVFbQcEVbAU",
        "outputId": "411332a7-3f50-4e15-a450-c4d6e07f52fc"
      },
      "execution_count": 3,
      "outputs": [
        {
          "output_type": "stream",
          "name": "stdout",
          "text": [
            "What's x? 1\n",
            "What's y? 2\n",
            "x is less than y\n"
          ]
        }
      ]
    },
    {
      "cell_type": "code",
      "source": [
        "x = int(input(\"What's x? \"))\n",
        "y = int(input(\"What's y? \"))\n",
        "\n",
        "if x < y:\n",
        "  print(\"x is less than y\")\n",
        "elif x > y:\n",
        "  print(\"x is greater than y\")\n",
        "else:\n",
        "  print(\"x is equal to y\")"
      ],
      "metadata": {
        "colab": {
          "base_uri": "https://localhost:8080/"
        },
        "id": "WlZPP1gbWMU7",
        "outputId": "537d4ac6-e35a-4a65-b42c-1050602bef5b"
      },
      "execution_count": 4,
      "outputs": [
        {
          "output_type": "stream",
          "name": "stdout",
          "text": [
            "What's x? 1\n",
            "What's y? 2\n",
            "x is less than y\n"
          ]
        }
      ]
    },
    {
      "cell_type": "code",
      "source": [
        "x = int(input(\"What's x? \"))\n",
        "y = int(input(\"What's y? \"))\n",
        "\n",
        "if x < y or x > y:\n",
        "  print(\"x is not equal to y\")\n",
        "else:\n",
        "  print(\"x is equal to y\")"
      ],
      "metadata": {
        "colab": {
          "base_uri": "https://localhost:8080/"
        },
        "id": "jNu4GY4YWs9R",
        "outputId": "2d0179e3-7976-450e-89e0-35c9567d7b0e"
      },
      "execution_count": 5,
      "outputs": [
        {
          "output_type": "stream",
          "name": "stdout",
          "text": [
            "What's x? 1\n",
            "What's y? 2\n",
            "x is not equal to y\n"
          ]
        }
      ]
    },
    {
      "cell_type": "code",
      "source": [
        "x = int(input(\"What's x? \"))\n",
        "y = int(input(\"What's y? \"))\n",
        "\n",
        "if x != y:\n",
        "  print(\"x is not equal to y\")\n",
        "else:\n",
        "  print(\"x is equal to y\")"
      ],
      "metadata": {
        "colab": {
          "base_uri": "https://localhost:8080/"
        },
        "id": "EoVsK2NJXDyw",
        "outputId": "d9718d3d-5976-4450-e259-a2443ad3e9fa"
      },
      "execution_count": 6,
      "outputs": [
        {
          "output_type": "stream",
          "name": "stdout",
          "text": [
            "What's x? 1\n",
            "What's y? 2\n",
            "x is not equal to y\n"
          ]
        }
      ]
    },
    {
      "cell_type": "code",
      "source": [
        "score = int(input(\"Score: \"))\n",
        "\n",
        "if score >= 90 and score <= 100:\n",
        "  print(\"Grade: A\")\n",
        "elif score >= 80 and score < 90:\n",
        "  print(\"Grade: B\")\n",
        "elif score >= 70 and score < 80:\n",
        "  print(\"Grade: C\")\n",
        "elif score >= 60 and score < 70:\n",
        "  print(\"Grade: D\")\n",
        "else:\n",
        "  print(\"Grade: F\")"
      ],
      "metadata": {
        "colab": {
          "base_uri": "https://localhost:8080/"
        },
        "id": "90r5td86Xkm5",
        "outputId": "272c69f3-27a2-4592-feda-d0b1254de83d"
      },
      "execution_count": 10,
      "outputs": [
        {
          "output_type": "stream",
          "name": "stdout",
          "text": [
            "Score: 0\n",
            "Grade: F\n"
          ]
        }
      ]
    },
    {
      "cell_type": "code",
      "source": [
        "score = int(input(\"Score: \"))\n",
        "\n",
        "if 90 <= score <= 100:\n",
        "  print(\"Grade: A\")\n",
        "elif 80 <= score < 90:\n",
        "  print(\"Grade: B\")\n",
        "elif 70 <= score < 80:\n",
        "  print(\"Grade: C\")\n",
        "elif 60 <= score < 70:\n",
        "  print(\"Grade: D\")\n",
        "else:\n",
        "  print(\"Grade: F\")"
      ],
      "metadata": {
        "colab": {
          "base_uri": "https://localhost:8080/"
        },
        "id": "paqjhygBX8ax",
        "outputId": "c480477d-7083-4b38-826b-ba26cf64ba16"
      },
      "execution_count": 11,
      "outputs": [
        {
          "output_type": "stream",
          "name": "stdout",
          "text": [
            "Score: 62\n",
            "Grade: D\n"
          ]
        }
      ]
    },
    {
      "cell_type": "code",
      "source": [
        "score = int(input(\"Score: \"))\n",
        "\n",
        "if score >= 90:\n",
        "  print(\"Grade: A\")\n",
        "elif score >= 80:\n",
        "  print(\"Grade: B\")\n",
        "elif score >= 70:\n",
        "  print(\"Grade: C\")\n",
        "elif score >= 60:\n",
        "  print(\"Grade: D\")\n",
        "else:\n",
        "  print(\"Grade: F\")"
      ],
      "metadata": {
        "colab": {
          "base_uri": "https://localhost:8080/"
        },
        "id": "sNwlkKE8YR3v",
        "outputId": "77d99f18-59ce-4791-84ab-c3271f17e2fb"
      },
      "execution_count": 12,
      "outputs": [
        {
          "output_type": "stream",
          "name": "stdout",
          "text": [
            "Score: 94\n",
            "Grade: A\n"
          ]
        }
      ]
    },
    {
      "cell_type": "code",
      "source": [
        "x = int(input(\"What's x? \"))\n",
        "\n",
        "if x % 2 == 0:\n",
        "  print(\"Even\")\n",
        "else:\n",
        "  print(\"Odd\")"
      ],
      "metadata": {
        "colab": {
          "base_uri": "https://localhost:8080/"
        },
        "id": "uCJ8XrLdZH_m",
        "outputId": "7a65815d-c9d3-4cf8-ac37-2e3f5f689fa1"
      },
      "execution_count": 17,
      "outputs": [
        {
          "output_type": "stream",
          "name": "stdout",
          "text": [
            "What's x? 456\n",
            "Even\n"
          ]
        }
      ]
    },
    {
      "cell_type": "code",
      "source": [
        "def main():\n",
        "  x = int(input(\"What's x? \"))\n",
        "  if is_even(x):\n",
        "    print(\"Even\")\n",
        "  else:\n",
        "    print(\"Odd\")\n",
        "\n",
        "def is_even(n):\n",
        "  if n % 2 == 0:\n",
        "    return True\n",
        "  else:\n",
        "    return False\n",
        "\n",
        "main()"
      ],
      "metadata": {
        "colab": {
          "base_uri": "https://localhost:8080/"
        },
        "id": "8LGdv0nJZYAJ",
        "outputId": "a6ca23ff-aada-4ce3-daf8-044b103f62a0"
      },
      "execution_count": 20,
      "outputs": [
        {
          "output_type": "stream",
          "name": "stdout",
          "text": [
            "What's x? 3\n",
            "Odd\n"
          ]
        }
      ]
    },
    {
      "cell_type": "code",
      "source": [
        "def main():\n",
        "  x = int(input(\"What's x? \"))\n",
        "  if is_even(x):\n",
        "    print(\"Even\")\n",
        "  else:\n",
        "    print(\"Odd\")\n",
        "\n",
        "def is_even(n):\n",
        "  return True if n % 2 == 0 else False\n",
        "main()"
      ],
      "metadata": {
        "colab": {
          "base_uri": "https://localhost:8080/"
        },
        "id": "2zojoI8uajEG",
        "outputId": "8e1b2745-3632-460e-c4f9-2f9ae3083324"
      },
      "execution_count": 21,
      "outputs": [
        {
          "output_type": "stream",
          "name": "stdout",
          "text": [
            "What's x? 2\n",
            "Even\n"
          ]
        }
      ]
    },
    {
      "cell_type": "code",
      "source": [
        "def main():\n",
        "  x = int(input(\"What's x? \"))\n",
        "  if is_even(x):\n",
        "    print(\"Even\")\n",
        "  else:\n",
        "    print(\"Odd\")\n",
        "\n",
        "def is_even(n):\n",
        "  return n % 2 == 0\n",
        "main()"
      ],
      "metadata": {
        "colab": {
          "base_uri": "https://localhost:8080/"
        },
        "id": "CQBDxRxnazsm",
        "outputId": "3a8c9ddf-232d-4cb9-9505-4c42701b1fd1"
      },
      "execution_count": 24,
      "outputs": [
        {
          "output_type": "stream",
          "name": "stdout",
          "text": [
            "What's x? 5\n",
            "Odd\n"
          ]
        }
      ]
    },
    {
      "cell_type": "code",
      "source": [
        "name = input(\"What's your name? \")\n",
        "\n",
        "if name == \"Harry\":\n",
        "  print(\"Gryffindor\")\n",
        "elif name == \"Hermione\":\n",
        "  print(\"Gryffindor\")\n",
        "elif name == \"Ron\":\n",
        "  print(\"Gryffindor\")\n",
        "elif name == \"Draco\":\n",
        "  print(\"Slytherin\")\n",
        "else:\n",
        "  print(\"Who?\")"
      ],
      "metadata": {
        "colab": {
          "base_uri": "https://localhost:8080/"
        },
        "id": "upnMMyVbb9-D",
        "outputId": "951f2888-55e7-420f-cf42-3ffdbaa78c23"
      },
      "execution_count": 28,
      "outputs": [
        {
          "output_type": "stream",
          "name": "stdout",
          "text": [
            "What's your name? kevin\n",
            "Who?\n"
          ]
        }
      ]
    },
    {
      "cell_type": "code",
      "source": [
        "name = input(\"What's your name? \")\n",
        "\n",
        "if name == \"Harry\" or name == \"Hermione\" or name == \"Ron\":\n",
        "  print(\"Gryffindor\")\n",
        "elif name == \"Draco\":\n",
        "  print(\"Slytherin\")\n",
        "else:\n",
        "  print(\"Who?\")"
      ],
      "metadata": {
        "colab": {
          "base_uri": "https://localhost:8080/"
        },
        "id": "Al_Avu83cTis",
        "outputId": "26df3fcb-fc70-4c7f-b7a9-74ae476cc37f"
      },
      "execution_count": 29,
      "outputs": [
        {
          "output_type": "stream",
          "name": "stdout",
          "text": [
            "What's your name? Ron\n",
            "Gryffindor\n"
          ]
        }
      ]
    },
    {
      "cell_type": "code",
      "source": [
        "name = input(\"What's your name? \")\n",
        "\n",
        "match name:\n",
        "  case \"Harry\" | \"Hermione\" | \"Ron\":\n",
        "    print(\"Gryffindor\")\n",
        "  case \"Draco\":\n",
        "    print(\"Slytherin\")\n",
        "  case _:\n",
        "    print(\"Who?\")"
      ],
      "metadata": {
        "colab": {
          "base_uri": "https://localhost:8080/"
        },
        "id": "UT8mRInKcj7C",
        "outputId": "338527f3-bda6-4368-83ba-735054f771b0"
      },
      "execution_count": 35,
      "outputs": [
        {
          "output_type": "stream",
          "name": "stdout",
          "text": [
            "What's your name? Harry\n",
            "Gryffindor\n"
          ]
        }
      ]
    }
  ]
}