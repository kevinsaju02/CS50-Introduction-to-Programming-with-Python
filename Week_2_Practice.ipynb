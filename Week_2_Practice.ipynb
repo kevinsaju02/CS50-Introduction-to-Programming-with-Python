{
  "nbformat": 4,
  "nbformat_minor": 0,
  "metadata": {
    "colab": {
      "provenance": []
    },
    "kernelspec": {
      "name": "python3",
      "display_name": "Python 3"
    },
    "language_info": {
      "name": "python"
    }
  },
  "cells": [
    {
      "cell_type": "code",
      "execution_count": 1,
      "metadata": {
        "colab": {
          "base_uri": "https://localhost:8080/"
        },
        "id": "J3cYPzfMXRgB",
        "outputId": "57c7d9b9-795f-442e-f6c7-dee283394e81"
      },
      "outputs": [
        {
          "output_type": "stream",
          "name": "stdout",
          "text": [
            "meow\n",
            "meow\n",
            "meow\n"
          ]
        }
      ],
      "source": [
        "print('meow')\n",
        "print('meow')\n",
        "print('meow')"
      ]
    },
    {
      "cell_type": "code",
      "source": [
        "i = 3\n",
        "while i != 0:\n",
        "  print('meow')\n",
        "  i = i - 1"
      ],
      "metadata": {
        "colab": {
          "base_uri": "https://localhost:8080/"
        },
        "id": "dflpa-6yX6YH",
        "outputId": "2337f65b-723d-4f3d-afb3-f7251bec4213"
      },
      "execution_count": 2,
      "outputs": [
        {
          "output_type": "stream",
          "name": "stdout",
          "text": [
            "meow\n",
            "meow\n",
            "meow\n"
          ]
        }
      ]
    },
    {
      "cell_type": "code",
      "source": [
        "i = 1\n",
        "while i <=3 :\n",
        "  print('meow')\n",
        "  i = i + 1"
      ],
      "metadata": {
        "colab": {
          "base_uri": "https://localhost:8080/"
        },
        "id": "yx9iL1mDaDaj",
        "outputId": "48a7a300-b51f-4e59-8be6-8fe0fdd61bdf"
      },
      "execution_count": 4,
      "outputs": [
        {
          "output_type": "stream",
          "name": "stdout",
          "text": [
            "meow\n",
            "meow\n",
            "meow\n"
          ]
        }
      ]
    },
    {
      "cell_type": "code",
      "source": [
        "i = 0\n",
        "while i < 3:\n",
        "  print('meow')\n",
        "  i = i + 1"
      ],
      "metadata": {
        "colab": {
          "base_uri": "https://localhost:8080/"
        },
        "id": "c60Nyps4aq06",
        "outputId": "305da1ee-9d2a-4f9c-8d53-b189dcd20e57"
      },
      "execution_count": 8,
      "outputs": [
        {
          "output_type": "stream",
          "name": "stdout",
          "text": [
            "meow\n",
            "meow\n",
            "meow\n"
          ]
        }
      ]
    },
    {
      "cell_type": "code",
      "source": [
        "i = 0\n",
        "while i <3 :\n",
        "  print('meow')\n",
        "  i += 1"
      ],
      "metadata": {
        "colab": {
          "base_uri": "https://localhost:8080/"
        },
        "id": "8mqKrXUQbAOc",
        "outputId": "ab4f374d-6a75-470a-dde6-d53dcfe49f44"
      },
      "execution_count": 7,
      "outputs": [
        {
          "output_type": "stream",
          "name": "stdout",
          "text": [
            "meow\n",
            "meow\n",
            "meow\n"
          ]
        }
      ]
    },
    {
      "cell_type": "code",
      "source": [
        "for i in [0,1,2]:\n",
        "  print('meow')"
      ],
      "metadata": {
        "colab": {
          "base_uri": "https://localhost:8080/"
        },
        "id": "zReP-Qh5ep0v",
        "outputId": "482c0646-9ffc-4875-93ae-33e2b22eedb4"
      },
      "execution_count": 9,
      "outputs": [
        {
          "output_type": "stream",
          "name": "stdout",
          "text": [
            "meow\n",
            "meow\n",
            "meow\n"
          ]
        }
      ]
    },
    {
      "cell_type": "code",
      "source": [
        "for i in range(3):\n",
        "  print('meow')"
      ],
      "metadata": {
        "colab": {
          "base_uri": "https://localhost:8080/"
        },
        "id": "J5eEgu5oe95N",
        "outputId": "ca39b6cb-a17e-40f3-c961-40743afb5459"
      },
      "execution_count": 12,
      "outputs": [
        {
          "output_type": "stream",
          "name": "stdout",
          "text": [
            "meow\n",
            "meow\n",
            "meow\n"
          ]
        }
      ]
    },
    {
      "cell_type": "code",
      "source": [
        "for _ in range(3):\n",
        "  print('meow')"
      ],
      "metadata": {
        "colab": {
          "base_uri": "https://localhost:8080/"
        },
        "id": "JwYEQdZzfR7f",
        "outputId": "16f1a6cc-9471-479f-aaf4-55b265ed74c0"
      },
      "execution_count": 13,
      "outputs": [
        {
          "output_type": "stream",
          "name": "stdout",
          "text": [
            "meow\n",
            "meow\n",
            "meow\n"
          ]
        }
      ]
    },
    {
      "cell_type": "code",
      "source": [
        "print('meow' * 3)\n",
        "#not ideal"
      ],
      "metadata": {
        "colab": {
          "base_uri": "https://localhost:8080/"
        },
        "id": "gMV_CGkRfV7F",
        "outputId": "24e5adf2-a867-40a4-ccba-6b77558b34f6"
      },
      "execution_count": 14,
      "outputs": [
        {
          "output_type": "stream",
          "name": "stdout",
          "text": [
            "meowmeowmeow\n"
          ]
        }
      ]
    },
    {
      "cell_type": "code",
      "source": [
        "print('meow\\n' * 3, end=\"\")"
      ],
      "metadata": {
        "colab": {
          "base_uri": "https://localhost:8080/"
        },
        "id": "hkbmKYKSfduU",
        "outputId": "84cff775-fbbb-4627-80e9-d50f2b1f820f"
      },
      "execution_count": 18,
      "outputs": [
        {
          "output_type": "stream",
          "name": "stdout",
          "text": [
            "meow\n",
            "meow\n",
            "meow\n"
          ]
        }
      ]
    },
    {
      "cell_type": "code",
      "source": [
        "while True:\n",
        "  n = int(input('what is n?'))\n",
        "  if n > 0:\n",
        "    continue\n",
        "  else:\n",
        "    break"
      ],
      "metadata": {
        "id": "S2tlCLGGfvY-"
      },
      "execution_count": null,
      "outputs": []
    },
    {
      "cell_type": "code",
      "source": [
        "while True:\n",
        "  n = int(input('what is n?'))\n",
        "  if n > 0:\n",
        "    break\n",
        "\n",
        "for _ in range(n):\n",
        "  print(\"meow\")"
      ],
      "metadata": {
        "colab": {
          "base_uri": "https://localhost:8080/"
        },
        "id": "LZyBzMSegN2G",
        "outputId": "7478b57d-3992-44f4-f587-ab02131356ce"
      },
      "execution_count": 19,
      "outputs": [
        {
          "output_type": "stream",
          "name": "stdout",
          "text": [
            "what is n?10\n",
            "meow\n",
            "meow\n",
            "meow\n",
            "meow\n",
            "meow\n",
            "meow\n",
            "meow\n",
            "meow\n",
            "meow\n",
            "meow\n"
          ]
        }
      ]
    },
    {
      "cell_type": "code",
      "source": [
        "def main():\n",
        "  meow(3)\n",
        "\n",
        "def meow(n):\n",
        "  for _ in range (n):\n",
        "    print(\"meow\")\n",
        "\n",
        "main()"
      ],
      "metadata": {
        "colab": {
          "base_uri": "https://localhost:8080/"
        },
        "id": "HObnIrw9ggQt",
        "outputId": "c45e3518-b695-4fd0-a6c0-f24b4c4f91de"
      },
      "execution_count": 21,
      "outputs": [
        {
          "output_type": "stream",
          "name": "stdout",
          "text": [
            "meow\n",
            "meow\n",
            "meow\n"
          ]
        }
      ]
    },
    {
      "cell_type": "code",
      "source": [
        "def main():\n",
        "  number = get_number()\n",
        "  meow(number)\n",
        "\n",
        "def get_number():\n",
        "  while True:\n",
        "    n = int(input('what is n? '))\n",
        "    if n > 0:\n",
        "      break\n",
        "  return n\n",
        "\n",
        "def meow(n):\n",
        "  for _ in range (n):\n",
        "    print(\"meow\")\n",
        "\n",
        "main()"
      ],
      "metadata": {
        "colab": {
          "base_uri": "https://localhost:8080/"
        },
        "id": "mp0mJfvMgzjz",
        "outputId": "569ead09-40f9-4cef-9168-ffb1f3a727f3"
      },
      "execution_count": 25,
      "outputs": [
        {
          "output_type": "stream",
          "name": "stdout",
          "text": [
            "what is n? 5\n",
            "meow\n",
            "meow\n",
            "meow\n",
            "meow\n",
            "meow\n"
          ]
        }
      ]
    },
    {
      "cell_type": "code",
      "source": [
        "students = [\"Hermione\", \"Harry\", \"Ron\"]\n",
        "\n",
        "print(students[0])\n",
        "print(students[1])\n",
        "print(students[2])"
      ],
      "metadata": {
        "colab": {
          "base_uri": "https://localhost:8080/"
        },
        "id": "MSeWJe3Di5wZ",
        "outputId": "30457bde-8a9d-4d85-a354-a816924d5ec8"
      },
      "execution_count": 30,
      "outputs": [
        {
          "output_type": "stream",
          "name": "stdout",
          "text": [
            "Hermione\n",
            "Harry\n",
            "Ron\n"
          ]
        }
      ]
    },
    {
      "cell_type": "code",
      "source": [
        "students = [\"Hermione\", \"Harry\", \"Ron\"]\n",
        "\n",
        "for student in students:\n",
        "  print(student)"
      ],
      "metadata": {
        "colab": {
          "base_uri": "https://localhost:8080/"
        },
        "id": "gS5TKlGpjZGX",
        "outputId": "09c143aa-9efb-4eb7-e2e1-63cd5ae6d811"
      },
      "execution_count": 32,
      "outputs": [
        {
          "output_type": "stream",
          "name": "stdout",
          "text": [
            "Hermione\n",
            "Harry\n",
            "Ron\n"
          ]
        }
      ]
    },
    {
      "cell_type": "code",
      "source": [
        "students = [\"Hermione\", \"Harry\", \"Ron\"]\n",
        "\n",
        "for i in range(len(students)):\n",
        "  print(students[i])"
      ],
      "metadata": {
        "colab": {
          "base_uri": "https://localhost:8080/"
        },
        "id": "66VzxJplk1bW",
        "outputId": "3e188231-73d2-424a-a437-a47cc5759e74"
      },
      "execution_count": 35,
      "outputs": [
        {
          "output_type": "stream",
          "name": "stdout",
          "text": [
            "Hermione\n",
            "Harry\n",
            "Ron\n"
          ]
        }
      ]
    },
    {
      "cell_type": "code",
      "source": [
        "students = [\"Hermione\", \"Harry\", \"Ron\"]\n",
        "\n",
        "for i in range(len(students)):\n",
        "  print(i + 1, students[i])"
      ],
      "metadata": {
        "colab": {
          "base_uri": "https://localhost:8080/"
        },
        "id": "Q1cGQUA_lzyW",
        "outputId": "55f77669-94e3-4d54-8ec0-cbd10f82816b"
      },
      "execution_count": 36,
      "outputs": [
        {
          "output_type": "stream",
          "name": "stdout",
          "text": [
            "1 Hermione\n",
            "2 Harry\n",
            "3 Ron\n"
          ]
        }
      ]
    },
    {
      "cell_type": "code",
      "source": [
        "students = ['Hermione', 'Harry', 'Ron', 'Draco']\n",
        "houses = ['Gryffindor', 'Gryffindor', 'Gryffindor', 'Slytherin']"
      ],
      "metadata": {
        "id": "0A5ITH33m3BU"
      },
      "execution_count": 50,
      "outputs": []
    },
    {
      "cell_type": "code",
      "source": [
        "students = {'Hermione':'Gryffindor',\n",
        "            'Harry':'Gryffindor',\n",
        "            'Ron':'Gryffindor',\n",
        "            'Draco':'Slytherin'\n",
        "            }\n",
        "\n",
        "print(students['Hermione'])\n",
        "print(students['Harry'])\n",
        "print(students['Ron'])\n",
        "print(students['Draco'])"
      ],
      "metadata": {
        "colab": {
          "base_uri": "https://localhost:8080/"
        },
        "id": "YHd2Nr5HnOXr",
        "outputId": "e2388236-1a26-4baf-beac-9f5dc0c781e7"
      },
      "execution_count": 41,
      "outputs": [
        {
          "output_type": "stream",
          "name": "stdout",
          "text": [
            "Gryffindor\n",
            "Gryffindor\n",
            "Gryffindor\n",
            "Slytherin\n"
          ]
        }
      ]
    },
    {
      "cell_type": "code",
      "source": [
        "students = {'Hermione':'Gryffindor',\n",
        "            'Harry':'Gryffindor',\n",
        "            'Ron':'Gryffindor',\n",
        "            'Draco':'Slytherin'\n",
        "            }\n",
        "\n",
        "for x in students:\n",
        "  print(x, students[x], sep=\", \")"
      ],
      "metadata": {
        "colab": {
          "base_uri": "https://localhost:8080/"
        },
        "id": "o5MC2KOHnu_s",
        "outputId": "ba4f6296-7966-43b1-8391-e78ae92b4329"
      },
      "execution_count": 45,
      "outputs": [
        {
          "output_type": "stream",
          "name": "stdout",
          "text": [
            "Hermione, Gryffindor\n",
            "Harry, Gryffindor\n",
            "Ron, Gryffindor\n",
            "Draco, Slytherin\n"
          ]
        }
      ]
    },
    {
      "cell_type": "code",
      "source": [
        "students = [\n",
        "  {'name':'Hermione', 'house':'Gryffindor', 'patronus':'Otter'},\n",
        "  {'name':'Harry', 'house':'Gryffindor', 'patronus':'Stag'},\n",
        "  {'name':'Ron', 'house':'Gryffindor', 'patronus':'Jack Russell}ter'},\n",
        "  {'name':'Draco', 'house':'Slytherin', 'patronus':None}\n",
        "]\n",
        "\n",
        "for student in students:\n",
        "  print(student['name'], student['house'], student['patronus'], sep=\", \")"
      ],
      "metadata": {
        "colab": {
          "base_uri": "https://localhost:8080/"
        },
        "id": "pi8wZG3WpNNU",
        "outputId": "551e70d8-0f50-40de-a75d-bd6f8dcb39d1"
      },
      "execution_count": 49,
      "outputs": [
        {
          "output_type": "stream",
          "name": "stdout",
          "text": [
            "Hermione, Gryffindor, Otter\n",
            "Harry, Gryffindor, Stag\n",
            "Ron, Gryffindor, Jack Russell}ter\n",
            "Draco, Slytherin, None\n"
          ]
        }
      ]
    },
    {
      "cell_type": "code",
      "source": [
        "print('#')\n",
        "print('#')\n",
        "print('#')"
      ],
      "metadata": {
        "colab": {
          "base_uri": "https://localhost:8080/"
        },
        "id": "g5msqFU4qLKf",
        "outputId": "2083d7ca-e4e4-4729-8643-6def0ebe441a"
      },
      "execution_count": 51,
      "outputs": [
        {
          "output_type": "stream",
          "name": "stdout",
          "text": [
            "#\n",
            "#\n",
            "#\n"
          ]
        }
      ]
    },
    {
      "cell_type": "code",
      "source": [
        "for _ in range (3):\n",
        "  print('#')"
      ],
      "metadata": {
        "colab": {
          "base_uri": "https://localhost:8080/"
        },
        "id": "BptXOzn-qQof",
        "outputId": "e8057316-670d-49a4-97eb-71c494467fd2"
      },
      "execution_count": 53,
      "outputs": [
        {
          "output_type": "stream",
          "name": "stdout",
          "text": [
            "#\n",
            "#\n",
            "#\n"
          ]
        }
      ]
    },
    {
      "cell_type": "code",
      "source": [
        "def main():\n",
        "  print_column(3)\n",
        "\n",
        "def print_column(height):\n",
        "  for _ in range(height):\n",
        "    print('#')\n",
        "\n",
        "main()"
      ],
      "metadata": {
        "colab": {
          "base_uri": "https://localhost:8080/"
        },
        "id": "XhygWkqtqYoA",
        "outputId": "407a7d99-114c-4f9d-97e5-d9fe517ba227"
      },
      "execution_count": 54,
      "outputs": [
        {
          "output_type": "stream",
          "name": "stdout",
          "text": [
            "#\n",
            "#\n",
            "#\n"
          ]
        }
      ]
    },
    {
      "cell_type": "code",
      "source": [
        "def main():\n",
        "  print_column(3)\n",
        "\n",
        "def print_column(height):\n",
        "    print('#\\n' * height, end=\"\")\n",
        "\n",
        "main()"
      ],
      "metadata": {
        "colab": {
          "base_uri": "https://localhost:8080/"
        },
        "id": "Y46FQYoSwleg",
        "outputId": "f03cc86f-1c62-4539-a610-66dd697b6969"
      },
      "execution_count": 55,
      "outputs": [
        {
          "output_type": "stream",
          "name": "stdout",
          "text": [
            "#\n",
            "#\n",
            "#\n"
          ]
        }
      ]
    },
    {
      "cell_type": "code",
      "source": [
        "def main():\n",
        "  print_row(4)\n",
        "\n",
        "def print_row(width):\n",
        "  print('?' * width)\n",
        "\n",
        "main()"
      ],
      "metadata": {
        "colab": {
          "base_uri": "https://localhost:8080/"
        },
        "id": "dYWZeBMiw5Ba",
        "outputId": "4c075043-cc85-4d50-e4db-91b20f45e742"
      },
      "execution_count": 58,
      "outputs": [
        {
          "output_type": "stream",
          "name": "stdout",
          "text": [
            "????\n"
          ]
        }
      ]
    },
    {
      "cell_type": "code",
      "source": [
        "def main():\n",
        "  print_square(3)\n",
        "\n",
        "def print_square(size):\n",
        "  #For each row in a squar\n",
        "  for i in range(size):\n",
        "    #for each brick in row\n",
        "    for j in range(size):\n",
        "      #print brick\n",
        "      print('#', end=\"\")\n",
        "    print()\n",
        "\n",
        "main()"
      ],
      "metadata": {
        "colab": {
          "base_uri": "https://localhost:8080/"
        },
        "id": "GLnJDmQoxRL7",
        "outputId": "1eb47fc7-da33-4145-a34a-9f48aff70feb"
      },
      "execution_count": 61,
      "outputs": [
        {
          "output_type": "stream",
          "name": "stdout",
          "text": [
            "###\n",
            "###\n",
            "###\n"
          ]
        }
      ]
    },
    {
      "cell_type": "code",
      "source": [
        "def main():\n",
        "  print_square(3)\n",
        "\n",
        "def print_square(size):\n",
        "  for i in range(size):\n",
        "      print('#'* size)\n",
        "\n",
        "main()"
      ],
      "metadata": {
        "colab": {
          "base_uri": "https://localhost:8080/"
        },
        "id": "Bc29G6cJyPl_",
        "outputId": "9b4c8d3c-6f98-437a-8450-812e450a1bf8"
      },
      "execution_count": 62,
      "outputs": [
        {
          "output_type": "stream",
          "name": "stdout",
          "text": [
            "###\n",
            "###\n",
            "###\n"
          ]
        }
      ]
    },
    {
      "cell_type": "code",
      "source": [
        "def main():\n",
        "  print_square(3)\n",
        "\n",
        "def print_square(size):\n",
        "  for i in range(size):\n",
        "      print_row(size)\n",
        "\n",
        "def print_row(width):\n",
        "  print('#' * width)\n",
        "\n",
        "main()"
      ],
      "metadata": {
        "colab": {
          "base_uri": "https://localhost:8080/"
        },
        "id": "nwNc5HE9ycxt",
        "outputId": "e918ed16-f838-45ca-abd6-401dcd919f94"
      },
      "execution_count": 63,
      "outputs": [
        {
          "output_type": "stream",
          "name": "stdout",
          "text": [
            "###\n",
            "###\n",
            "###\n"
          ]
        }
      ]
    }
  ]
}